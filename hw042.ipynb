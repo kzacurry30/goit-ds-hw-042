{
 "cells": [
  {
   "cell_type": "code",
   "id": "initial_id",
   "metadata": {
    "collapsed": true,
    "ExecuteTime": {
     "end_time": "2024-09-20T13:32:59.565076Z",
     "start_time": "2024-09-20T13:32:59.560372Z"
    }
   },
   "source": [
    "import numpy as np\n",
    "\n",
    "arr = np.array([0, 1, 2, 3, 4, 5, 6, 7, 8, 9])\n",
    "arr [arr % 2 != 0] = -1 \n",
    "print(arr)"
   ],
   "outputs": [
    {
     "name": "stdout",
     "output_type": "stream",
     "text": [
      "[ 0 -1  2 -1  4 -1  6 -1  8 -1]\n"
     ]
    }
   ],
   "execution_count": 5
  },
  {
   "metadata": {
    "ExecuteTime": {
     "end_time": "2024-09-20T13:34:10.703885Z",
     "start_time": "2024-09-20T13:34:10.699713Z"
    }
   },
   "cell_type": "code",
   "source": [
    "import numpy as np\n",
    "\n",
    "arr_2d = arr.reshape(2, -1)\n",
    "print(arr_2d)"
   ],
   "id": "f7318f20fa2c7190",
   "outputs": [
    {
     "name": "stdout",
     "output_type": "stream",
     "text": [
      "[[ 0 -1  2 -1  4]\n",
      " [-1  6 -1  8 -1]]\n"
     ]
    }
   ],
   "execution_count": 7
  },
  {
   "metadata": {
    "ExecuteTime": {
     "end_time": "2024-09-20T13:35:40.468496Z",
     "start_time": "2024-09-20T13:35:40.463481Z"
    }
   },
   "cell_type": "code",
   "source": [
    "import numpy as np \n",
    "\n",
    "a = np.array([[1, 2], [3, 4]])\n",
    "b = np.array([[5, 6], [7, 8]])\n",
    "\n",
    "c = np.vstack((a, b))\n",
    "\n",
    "print(c)"
   ],
   "id": "597529e3b3d87a0f",
   "outputs": [
    {
     "name": "stdout",
     "output_type": "stream",
     "text": [
      "[[1 2]\n",
      " [3 4]\n",
      " [5 6]\n",
      " [7 8]]\n"
     ]
    }
   ],
   "execution_count": 8
  },
  {
   "metadata": {
    "ExecuteTime": {
     "end_time": "2024-09-20T13:40:42.489572Z",
     "start_time": "2024-09-20T13:40:42.483576Z"
    }
   },
   "cell_type": "code",
   "source": [
    "import numpy as np\n",
    "\n",
    "input = np.array([1,2,3])\n",
    "pattern = np.r_[np.repeat(input, 3), np.tile(input, 3)]\n",
    "\n",
    "print(pattern)\n",
    "\n"
   ],
   "id": "fe11c57eb6b020e2",
   "outputs": [
    {
     "name": "stdout",
     "output_type": "stream",
     "text": [
      "[1 1 1 2 2 2 3 3 3 1 2 3 1 2 3 1 2 3]\n"
     ]
    }
   ],
   "execution_count": 10
  },
  {
   "metadata": {
    "ExecuteTime": {
     "end_time": "2024-09-20T13:42:24.548570Z",
     "start_time": "2024-09-20T13:42:24.543976Z"
    }
   },
   "cell_type": "code",
   "source": [
    "import numpy as np\n",
    "\n",
    "a = np.array([1,2,3,2,3,4,3,4,5,6]) \n",
    "b = np.array([7,2,10,2,7,4,9,4,9,8])\n",
    "\n",
    "elements = np.intersect1d(a, b)\n",
    "\n",
    "print(elements)"
   ],
   "id": "56f90f381ee23f59",
   "outputs": [
    {
     "name": "stdout",
     "output_type": "stream",
     "text": [
      "[2 4]\n"
     ]
    }
   ],
   "execution_count": 11
  },
  {
   "metadata": {
    "ExecuteTime": {
     "end_time": "2024-09-20T13:49:00.204985Z",
     "start_time": "2024-09-20T13:49:00.200Z"
    }
   },
   "cell_type": "code",
   "source": [
    "import numpy as np\n",
    "\n",
    "np.random.seed(100)\n",
    "a = np.random.uniform(1,50, 20)\n",
    "\n",
    "first_5 = np.argpartition(-a, 5)[:5]\n",
    "\n",
    "print(first_5)\n",
    "\n"
   ],
   "id": "fe3f88daf962e29",
   "outputs": [
    {
     "name": "stdout",
     "output_type": "stream",
     "text": [
      "[15 10  3  7 18]\n"
     ]
    }
   ],
   "execution_count": 13
  },
  {
   "metadata": {
    "ExecuteTime": {
     "end_time": "2024-09-20T13:52:22.927731Z",
     "start_time": "2024-09-20T13:52:22.921976Z"
    }
   },
   "cell_type": "code",
   "source": [
    "import numpy as np\n",
    "\n",
    "а = np.array([1,2,3,np.nan,5,6,7,np.nan])\n",
    "del_nan = a[~np.isnan(a)]\n",
    "\n",
    "print(del_nan)"
   ],
   "id": "d0c3891fc0769491",
   "outputs": [
    {
     "name": "stdout",
     "output_type": "stream",
     "text": [
      "[1. 2. 3. 5. 6. 7.]\n"
     ]
    }
   ],
   "execution_count": 16
  },
  {
   "metadata": {
    "ExecuteTime": {
     "end_time": "2024-09-20T13:54:22.357608Z",
     "start_time": "2024-09-20T13:54:22.352158Z"
    }
   },
   "cell_type": "code",
   "source": [
    "import numpy as np\n",
    "\n",
    "a = np.array([1,2,3,4,5]) \n",
    "b = np.array([4,5,6,7,8])\n",
    "\n",
    "distance = np.sqrt(np.dot(a-b, a-b))\n",
    "print(distance)"
   ],
   "id": "bb7c43229b82171a",
   "outputs": [
    {
     "name": "stdout",
     "output_type": "stream",
     "text": [
      "6.708203932499369\n"
     ]
    }
   ],
   "execution_count": 17
  },
  {
   "metadata": {
    "ExecuteTime": {
     "end_time": "2024-09-20T13:56:09.161360Z",
     "start_time": "2024-09-20T13:56:09.155907Z"
    }
   },
   "cell_type": "code",
   "source": [
    "import numpy as np\n",
    "\n",
    "x = np.array([1, 2, 1, 1, 3, 4, 3, 1, 1, 2, 1, 1, 2])\n",
    "n = 5 \n",
    "index = np.where(x == 1)[0][n-1]\n",
    "\n",
    "print(index)"
   ],
   "id": "115bb25f5a2949a8",
   "outputs": [
    {
     "name": "stdout",
     "output_type": "stream",
     "text": [
      "8\n"
     ]
    }
   ],
   "execution_count": 18
  },
  {
   "metadata": {
    "ExecuteTime": {
     "end_time": "2024-09-20T13:59:16.667373Z",
     "start_time": "2024-09-20T13:59:16.658770Z"
    }
   },
   "cell_type": "code",
   "source": [
    "import numpy as np\n",
    "\n",
    "# Input \n",
    "np.random.seed(100) \n",
    "a = np.random.randint(0, 5, 10)\n",
    "\n",
    "out = np.full(a.shape[0], True)\n",
    "unique_positions = np.unique(a, return_index=True)[1]\n",
    "out[unique_positions] = False\n",
    "\n",
    "print(out)\n",
    "print('Array: ', a)"
   ],
   "id": "a8af6725f9ee8a",
   "outputs": [
    {
     "name": "stdout",
     "output_type": "stream",
     "text": [
      "[False  True False  True False False  True  True  True  True]\n",
      "Array:  [0 0 3 0 2 4 2 2 2 2]\n"
     ]
    }
   ],
   "execution_count": 19
  },
  {
   "metadata": {},
   "cell_type": "code",
   "outputs": [],
   "execution_count": null,
   "source": "",
   "id": "ece52914b73dddf1"
  }
 ],
 "metadata": {
  "kernelspec": {
   "display_name": "Python 3",
   "language": "python",
   "name": "python3"
  },
  "language_info": {
   "codemirror_mode": {
    "name": "ipython",
    "version": 2
   },
   "file_extension": ".py",
   "mimetype": "text/x-python",
   "name": "python",
   "nbconvert_exporter": "python",
   "pygments_lexer": "ipython2",
   "version": "2.7.6"
  }
 },
 "nbformat": 4,
 "nbformat_minor": 5
}
